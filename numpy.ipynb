{
 "cells": [
  {
   "cell_type": "code",
   "execution_count": 1,
   "id": "a24e956d",
   "metadata": {},
   "outputs": [],
   "source": [
    "import pandas as pd \n",
    "import numpy as np "
   ]
  },
  {
   "cell_type": "code",
   "execution_count": 2,
   "id": "7ad77607",
   "metadata": {},
   "outputs": [
    {
     "data": {
      "text/plain": [
       "array([1, 2, 3, 4, 5])"
      ]
     },
     "execution_count": 2,
     "metadata": {},
     "output_type": "execute_result"
    }
   ],
   "source": [
    "arr = np.array([1,2,3,4,5])\n",
    "arr"
   ]
  },
  {
   "cell_type": "markdown",
   "id": "4afaa182",
   "metadata": {},
   "source": [
    "## Dimensions of Array"
   ]
  },
  {
   "cell_type": "code",
   "execution_count": 3,
   "id": "f4d1f6b3",
   "metadata": {},
   "outputs": [
    {
     "name": "stdout",
     "output_type": "stream",
     "text": [
      "Its scalar or 0-D array:  9\n",
      "Its 1-D array:  [1 2 3 4 5]\n",
      "Its 2-D array:  [[1 2 3]\n",
      " [4 5 6]]\n",
      "Its 3-D array:  [[[ 1  2  3]\n",
      "  [ 4  5  6]]\n",
      "\n",
      " [[ 7  8  9]\n",
      "  [10 11 12]]]\n",
      "1\n",
      "1\n",
      "2\n",
      "3\n"
     ]
    }
   ],
   "source": [
    "arr0 = np.array(9) ##scalor or 0-D array\n",
    "arr1= np.array([1,2,3,4,5]) ##1-D array\n",
    "arr2= np.array([[1,2,3],[4,5,6]]) ##2-D array\n",
    "arr3 = np.array([[[1,2,3],[4,5,6]],[[7,8,9],[10,11,12]]]) ##3-D array\n",
    "\n",
    "print(\"Its scalar or 0-D array: \", arr0)\n",
    "print(\"Its 1-D array: \", arr1)\n",
    "print(\"Its 2-D array: \", arr2)\n",
    "print(\"Its 3-D array: \", arr3)\n",
    "\n",
    "print(arr.ndim)\n",
    "print(arr1.ndim)      ##ndim tells how many dimensions that array has\n",
    "print(arr2.ndim)\n",
    "print(arr3.ndim)"
   ]
  },
  {
   "cell_type": "code",
   "execution_count": 4,
   "id": "f5211748",
   "metadata": {},
   "outputs": [
    {
     "name": "stdout",
     "output_type": "stream",
     "text": [
      "[[[[[1 2 3]]]]]\n",
      "5\n"
     ]
    }
   ],
   "source": [
    "arr= np.array([1,2,3], ndmin=5) ##ndmin to define no of dimensions\n",
    "print(arr)\n",
    "print(arr.ndim)"
   ]
  },
  {
   "cell_type": "code",
   "execution_count": 5,
   "id": "14f1666a",
   "metadata": {},
   "outputs": [
    {
     "name": "stdout",
     "output_type": "stream",
     "text": [
      "1\n",
      "7\n"
     ]
    }
   ],
   "source": [
    "arr = np.array([1,2,3,4,5])\n",
    "print(arr[0])        ##accessing 1-d arrays\n",
    "print(arr[2]+arr[3])"
   ]
  },
  {
   "cell_type": "code",
   "execution_count": 6,
   "id": "72315720",
   "metadata": {},
   "outputs": [
    {
     "name": "stdout",
     "output_type": "stream",
     "text": [
      "[[1 2 3]\n",
      " [4 5 6]]\n",
      "2nd element on first row:  2\n"
     ]
    }
   ],
   "source": [
    "arr = np.array([[1,2,3],[4,5,6]])\n",
    "print(arr)\n",
    "print(\"2nd element on first row: \",arr[0,1]) ##accessing 2-d arrays where 0 is dimension, 1 is column"
   ]
  },
  {
   "cell_type": "markdown",
   "id": "37d369bf",
   "metadata": {},
   "source": [
    "**Accessing 2-D arrays**"
   ]
  },
  {
   "cell_type": "code",
   "execution_count": 7,
   "id": "600ca293",
   "metadata": {},
   "outputs": [
    {
     "name": "stdout",
     "output_type": "stream",
     "text": [
      "[['a' 'b' 'c']\n",
      " ['d' 'e' 'f']]\n",
      "e\n"
     ]
    }
   ],
   "source": [
    "arr = np.array([['a','b','c'],['d','e','f']])\n",
    "print(arr)\n",
    "print(arr[1,1]) ##1 means second row as row starts from 0, and 1 means 2nd value as value also starts from 0 index"
   ]
  },
  {
   "cell_type": "markdown",
   "id": "743defb2",
   "metadata": {},
   "source": [
    "**Accessing 3-D arrays**"
   ]
  },
  {
   "cell_type": "code",
   "execution_count": 8,
   "id": "e16490db",
   "metadata": {},
   "outputs": [
    {
     "name": "stdout",
     "output_type": "stream",
     "text": [
      "[[[ 1  2  3]\n",
      "  [ 4  5  6]]\n",
      "\n",
      " [[ 7  8  9]\n",
      "  [10 11 12]]]\n",
      "3rd element on second row of 1st dimension:  6\n"
     ]
    }
   ],
   "source": [
    "arr = np.array([[[1,2,3],[4,5,6]],[[7,8,9],[10,11,12]]])\n",
    "print(arr)\n",
    "print(\"3rd element on second row of 1st dimension: \",arr[0,1,2])"
   ]
  },
  {
   "cell_type": "markdown",
   "id": "8b8744eb",
   "metadata": {},
   "source": [
    "**Negative Indexing**"
   ]
  },
  {
   "cell_type": "code",
   "execution_count": 9,
   "id": "af0e021e",
   "metadata": {},
   "outputs": [
    {
     "name": "stdout",
     "output_type": "stream",
     "text": [
      "Last element from 2nd dim:  10\n"
     ]
    }
   ],
   "source": [
    "arr = np.array([[1,2,3,4,5], [6,7,8,9,10]])\n",
    "\n",
    "print('Last element from 2nd dim: ', arr[1, -1])"
   ]
  },
  {
   "cell_type": "markdown",
   "id": "bc66377c",
   "metadata": {},
   "source": [
    "## Array Slicing"
   ]
  },
  {
   "cell_type": "code",
   "execution_count": 10,
   "id": "765d3b2e",
   "metadata": {},
   "outputs": [
    {
     "name": "stdout",
     "output_type": "stream",
     "text": [
      "[3 4 5]\n",
      "[5 6]\n",
      "[1 2 3 4]\n",
      "[4 5]\n"
     ]
    }
   ],
   "source": [
    "arr = np.array([1,2,3,4,5,6])\n",
    "print(arr[2:5]) ##includes the start index, but excludes the end index.\n",
    "print(arr[4:]) ##includes elements from index 4 to end\n",
    "print(arr[:4]) ##includes elements till index 4 which is not included\n",
    "print(arr[-3:-1]) ##negative slicing -reverse array from index -1 means last item to -3 item, -1 item isn't included"
   ]
  },
  {
   "cell_type": "markdown",
   "id": "8c29521f",
   "metadata": {},
   "source": [
    "## Step"
   ]
  },
  {
   "cell_type": "code",
   "execution_count": 11,
   "id": "151f847f",
   "metadata": {},
   "outputs": [
    {
     "name": "stdout",
     "output_type": "stream",
     "text": [
      "[2 4]\n",
      "[2 3 4 5]\n",
      "[1 2 3 4 5 6 7]\n",
      "int64\n",
      "<U6\n"
     ]
    }
   ],
   "source": [
    "arr = np.array([1,2,3,4,5,6,7])\n",
    "arr2= np.array(['apple','banana','orange'])\n",
    "print(arr[1:5:2]) #[start:stop:step] 2 in last means print every second element\n",
    "print(arr[1:5:1]) #prints every 1st element\n",
    "print(arr[::1]) #prints whole array\n",
    "print(arr.dtype) #prints data type of array\n",
    "print(arr2.dtype)"
   ]
  },
  {
   "cell_type": "code",
   "execution_count": 12,
   "id": "733367d5",
   "metadata": {},
   "outputs": [
    {
     "name": "stdout",
     "output_type": "stream",
     "text": [
      "[7 8 9]\n",
      "\n",
      " [[2 3 4]\n",
      " [7 8 9]]\n"
     ]
    }
   ],
   "source": [
    "arr = np.array([[1,2,3,4,5],[5,7,8,9,10]])\n",
    "print(arr[1,1:4]) #1->second array, 1:4-> elements from 1 index to 4 which is not included\n",
    "print(\"\\n\",arr[0:2,1:4]) #returns a 2-d array, for both, 1:4 is working, 0:2 is for directing arrays"
   ]
  },
  {
   "cell_type": "markdown",
   "id": "94a95656",
   "metadata": {},
   "source": [
    "## Data types"
   ]
  },
  {
   "cell_type": "code",
   "execution_count": 13,
   "id": "b1076db7",
   "metadata": {},
   "outputs": [
    {
     "name": "stdout",
     "output_type": "stream",
     "text": [
      "[1 2 3 4 5 6 7]\n",
      "[b'1' b'2' b'3' b'4' b'5' b'6' b'7']\n",
      "[1 2 3 4 5 6 7]\n",
      "int64\n",
      "<U6\n"
     ]
    }
   ],
   "source": [
    "arr = np.array([1,2,3,4,5,6,7])\n",
    "arr1= np.array([1,2,3,4,5,6,7], dtype='S') ## we defined expected output as string here\n",
    "arr2= np.array(['apple','banana','orange'])\n",
    "arr3= np.array([1,2,3,4,5,6,7], dtype='i4')\n",
    "\n",
    "print(arr)\n",
    "print(arr1)\n",
    "print(arr3)\n",
    "print(arr.dtype) #prints data type of array\n",
    "print(arr2.dtype)"
   ]
  },
  {
   "cell_type": "markdown",
   "id": "b169c0fd",
   "metadata": {},
   "source": [
    "## Changing data type"
   ]
  },
  {
   "cell_type": "code",
   "execution_count": 14,
   "id": "3ff26578",
   "metadata": {},
   "outputs": [
    {
     "name": "stdout",
     "output_type": "stream",
     "text": [
      "[1 1 2]\n",
      "[ True  True  True]\n",
      "int32\n",
      "bool\n"
     ]
    }
   ],
   "source": [
    "arr = np.array([1.2,1.1,2.3])\n",
    "\n",
    "arr2= arr.astype('i') # we changed datatype float to int\n",
    "arr3= arr.astype(bool) # we changed datatype float to boolean\n",
    "print(arr2)\n",
    "print(arr3)\n",
    "print(arr2.dtype)\n",
    "print(arr3.dtype)"
   ]
  },
  {
   "cell_type": "markdown",
   "id": "13b1c320",
   "metadata": {},
   "source": [
    "## Numpy Copy vs View"
   ]
  },
  {
   "cell_type": "markdown",
   "id": "8823583e",
   "metadata": {},
   "source": [
    "### Numpy Copy"
   ]
  },
  {
   "cell_type": "code",
   "execution_count": 15,
   "id": "345b6414",
   "metadata": {},
   "outputs": [
    {
     "name": "stdout",
     "output_type": "stream",
     "text": [
      "[9 2 3 4 5]\n",
      "[1 2 3 4 5]\n"
     ]
    }
   ],
   "source": [
    "arr = np.array([1,2,3,4,5])\n",
    "arr2= arr.copy() \n",
    "arr[0]=9 #changes the item of original array\n",
    "\n",
    "print(arr)\n",
    "print(arr2) #copy array is new array which is not affected by the changes in original array"
   ]
  },
  {
   "cell_type": "markdown",
   "id": "11a148f1",
   "metadata": {},
   "source": [
    "### Numpy View"
   ]
  },
  {
   "cell_type": "code",
   "execution_count": 16,
   "id": "44a61581",
   "metadata": {},
   "outputs": [
    {
     "name": "stdout",
     "output_type": "stream",
     "text": [
      "[9 2 3 4 5]\n",
      "[9 2 3 4 5]\n"
     ]
    }
   ],
   "source": [
    "arr = np.array([1,2,3,4,5])\n",
    "arr2= arr.view()\n",
    "arr[0]=9 #changes the item of original array\n",
    "\n",
    "print(arr)\n",
    "print(arr2) #view is the original array which is affected by the changes in original array\n",
    "\n"
   ]
  },
  {
   "cell_type": "code",
   "execution_count": 17,
   "id": "8b3ea8ea",
   "metadata": {},
   "outputs": [
    {
     "name": "stdout",
     "output_type": "stream",
     "text": [
      "None\n",
      "[1 2 3 4 5]\n"
     ]
    }
   ],
   "source": [
    "arr = np.array([1,2,3,4,5])\n",
    "\n",
    "arr2= arr.copy()\n",
    "arr3= arr.view()\n",
    "\n",
    "print(arr2.base)\n",
    "print(arr3.base)"
   ]
  },
  {
   "cell_type": "markdown",
   "id": "6f71a56f",
   "metadata": {},
   "source": [
    "## Numpy Shapes\n",
    "The shape of an array is the number of elements in each dimension."
   ]
  },
  {
   "cell_type": "code",
   "execution_count": 18,
   "id": "2af6018c",
   "metadata": {},
   "outputs": [
    {
     "name": "stdout",
     "output_type": "stream",
     "text": [
      "[[1 2 3 4]\n",
      " [5 6 7 8]]\n",
      "(2, 4)\n",
      "(3, 3)\n"
     ]
    }
   ],
   "source": [
    "arr = np.array([[1,2,3,4],[5,6,7,8]])\n",
    "arr2= np.array([[1,2,3],[4,5,6],[7,8,9]])\n",
    "\n",
    "print(arr)\n",
    "print(arr.shape) #has 2 dimensions where each dimension contain 4 elements\n",
    "print(arr2.shape) #has 3 dimensions where each dimension contain 3 elements"
   ]
  },
  {
   "cell_type": "code",
   "execution_count": 19,
   "id": "b9191198",
   "metadata": {},
   "outputs": [
    {
     "name": "stdout",
     "output_type": "stream",
     "text": [
      "(1, 1, 1, 1, 4)\n",
      "(1, 1, 3)\n"
     ]
    }
   ],
   "source": [
    "arr = np.array([1,2,3,4], ndmin=5) #put dimension as 5\n",
    "print(arr.shape) # 1,1,1,1 are extra or dummy dimensions of size 1. 4 is the actual length of dimension\n",
    "\n",
    "arr2 = np.array([1,2,3], ndmin=3)\n",
    "print(arr2.shape)"
   ]
  },
  {
   "cell_type": "markdown",
   "id": "36198b15",
   "metadata": {},
   "source": [
    "## Reshaping array\n",
    "reshaping means changing the shape of array"
   ]
  },
  {
   "cell_type": "code",
   "execution_count": 20,
   "id": "7541cd72",
   "metadata": {},
   "outputs": [
    {
     "name": "stdout",
     "output_type": "stream",
     "text": [
      "[[[ 1  2]\n",
      "  [ 3  4]\n",
      "  [ 5  6]]\n",
      "\n",
      " [[ 7  8]\n",
      "  [ 9 10]\n",
      "  [11 12]]]\n"
     ]
    }
   ],
   "source": [
    "arr = np.array([1,2,3,4,5,6,7,8,9,10,11,12]) #reshape into 3-d array\n",
    "\n",
    "arr2 = arr.reshape(2,3,2) #outermost dimension will have 2 arrays that contains 3 arrays, each with 2 elements\n",
    "print(arr2)"
   ]
  },
  {
   "cell_type": "code",
   "execution_count": 21,
   "id": "f0d201ca",
   "metadata": {},
   "outputs": [
    {
     "name": "stdout",
     "output_type": "stream",
     "text": [
      "[1 2 3 4 5 6 7 8]\n"
     ]
    }
   ],
   "source": [
    "arr = np.array([1,2,3,4,5,6,7,8])\n",
    "\n",
    "print(arr.reshape(2,4).base) #returns view"
   ]
  },
  {
   "cell_type": "code",
   "execution_count": 22,
   "id": "f734021f",
   "metadata": {},
   "outputs": [
    {
     "name": "stdout",
     "output_type": "stream",
     "text": [
      "[[[1 2]\n",
      "  [3 4]]\n",
      "\n",
      " [[5 6]\n",
      "  [7 8]]]\n"
     ]
    }
   ],
   "source": [
    "arr = np.array([1,2,3,4,5,6,7,8])\n",
    "\n",
    "arr2 = arr.reshape(2,2,-1)\n",
    "print(arr2)"
   ]
  },
  {
   "cell_type": "markdown",
   "id": "5b180c16",
   "metadata": {},
   "source": [
    "## Flattening the array\n",
    "converting a multidimensional array into a 1D array."
   ]
  },
  {
   "cell_type": "code",
   "execution_count": 23,
   "id": "fb56611e",
   "metadata": {},
   "outputs": [
    {
     "name": "stdout",
     "output_type": "stream",
     "text": [
      "[1 2 3 4 5 6]\n"
     ]
    }
   ],
   "source": [
    "arr = np.array([[1,2,3],[4,5,6]])\n",
    "\n",
    "print(arr.reshape(-1)) #converts 2d array into 1d"
   ]
  },
  {
   "cell_type": "markdown",
   "id": "2dc57ec3",
   "metadata": {},
   "source": [
    "## Iterating the array"
   ]
  },
  {
   "cell_type": "code",
   "execution_count": 24,
   "id": "fa3e8064",
   "metadata": {},
   "outputs": [
    {
     "name": "stdout",
     "output_type": "stream",
     "text": [
      "1\n",
      "2\n",
      "3\n",
      "4\n",
      "5\n",
      "[1 2 3]\n",
      "[4 5 6]\n",
      "\n",
      " [1 2 3]\n",
      "\n",
      " [4 5 6]\n",
      "\n",
      " [7 8 9]\n"
     ]
    }
   ],
   "source": [
    "arr=np.array([1,2,3,4,5]) #iterating 1-d array\n",
    "for x in arr:\n",
    "    print(x)\n",
    "\n",
    "arr1= np.array([[1,2,3],[4,5,6]]) #iterating 2-d array\n",
    "for y in arr1:\n",
    "    print(y)\n",
    "\n",
    "arr2= np.array([[1,2,3],[4,5,6],[7,8,9]]) #iterating 3-d array\n",
    "for y in arr2:\n",
    "    print(\"\\n\",y)"
   ]
  },
  {
   "cell_type": "code",
   "execution_count": 25,
   "id": "9cb97355",
   "metadata": {},
   "outputs": [
    {
     "name": "stdout",
     "output_type": "stream",
     "text": [
      "1\n",
      "2\n",
      "3\n",
      "4\n",
      "5\n",
      "6\n",
      "\t 1\n",
      "\t 2\n",
      "\t 3\n",
      "\t 4\n",
      "\t 5\n",
      "\t 6\n",
      "\t 7\n",
      "\t 8\n",
      "\t 9\n",
      "\t 10\n",
      "\t 11\n",
      "\t 12\n"
     ]
    }
   ],
   "source": [
    "arr = np.array([[1,2,3],[4,5,6]])\n",
    "\n",
    "for x in arr:\n",
    "   for y in x:       #prints scalar values out of 2-d array\n",
    "    print(y)\n",
    "\n",
    "arr1 = np.array([[[1,2,3],[4,5,6]],[[7,8,9],[10,11,12]]]) #iterating 3d array\n",
    "for a in arr1:\n",
    "  for b in a:\n",
    "    for c in b:\n",
    "        print('\\t',c)"
   ]
  },
  {
   "cell_type": "markdown",
   "id": "89636925",
   "metadata": {},
   "source": [
    "## Simplifying Iteration with nditer()\n",
    "NumPy does not change the data type of the element in-place (where the element is in array) so it needs some other space to perform this action, that extra space is called buffer, and in order to enable it in nditer() we pass flags=['buffered']."
   ]
  },
  {
   "cell_type": "code",
   "execution_count": 26,
   "id": "13df3ba0",
   "metadata": {},
   "outputs": [
    {
     "name": "stdout",
     "output_type": "stream",
     "text": [
      "1\n",
      "2\n",
      "3\n",
      "4\n",
      "5\n",
      "6\n",
      "7\n",
      "8\n",
      "9\n",
      "10\n",
      "11\n",
      "12\n",
      "np.bytes_(b'1')\n",
      "np.bytes_(b'2')\n",
      "np.bytes_(b'3')\n",
      "np.bytes_(b'4')\n",
      "np.bytes_(b'5')\n",
      "np.bytes_(b'6')\n",
      "np.bytes_(b'7')\n",
      "np.bytes_(b'8')\n",
      "np.bytes_(b'9')\n",
      "np.bytes_(b'10')\n",
      "np.bytes_(b'11')\n",
      "np.bytes_(b'12')\n"
     ]
    }
   ],
   "source": [
    "arr = np.array([[[1,2,3],[4,5,6]],[[7,8,9],[10,11,12]]])\n",
    "for x in np.nditer(arr): #no need of using for loop for higher dimensionality\n",
    "    print(x)\n",
    "\n",
    "for x in np.nditer(arr, flags=['buffered'], op_dtypes=['S']):\n",
    "    print(x)"
   ]
  },
  {
   "cell_type": "code",
   "execution_count": 27,
   "id": "b3616017",
   "metadata": {},
   "outputs": [
    {
     "name": "stdout",
     "output_type": "stream",
     "text": [
      "(0,) 1\n",
      "(1,) 2\n",
      "(2,) 3\n",
      "(0, 0) 1\n",
      "(0, 1) 2\n",
      "(0, 2) 3\n",
      "(1, 0) 4\n",
      "(1, 1) 5\n",
      "(1, 2) 6\n"
     ]
    }
   ],
   "source": [
    "arr = np.array([1,2,3])\n",
    "arr1 = np.array([[1,2,3],[4,5,6]]) \n",
    "for idx, x in np.ndenumerate(arr): #returns index of array\n",
    "    print(idx,x)\n",
    "\n",
    "for ind, y in np.ndenumerate(arr1):\n",
    "    print(ind,y)"
   ]
  },
  {
   "cell_type": "markdown",
   "id": "363cd3c1",
   "metadata": {},
   "source": [
    "## Joining numpy arrays"
   ]
  },
  {
   "cell_type": "code",
   "execution_count": 28,
   "id": "9c023915",
   "metadata": {},
   "outputs": [
    {
     "name": "stdout",
     "output_type": "stream",
     "text": [
      "[1 2 3 4 5 6]\n"
     ]
    }
   ],
   "source": [
    "arr1= np.array([1,2,3])\n",
    "arr2= np.array([4,5,6])\n",
    "\n",
    "arr = np.concatenate((arr1,arr2)) #joins two arrays\n",
    "print(arr)"
   ]
  },
  {
   "cell_type": "code",
   "execution_count": 29,
   "id": "adaedcdb",
   "metadata": {},
   "outputs": [
    {
     "name": "stdout",
     "output_type": "stream",
     "text": [
      "[[1 2 5 6]\n",
      " [3 4 7 8]]\n"
     ]
    }
   ],
   "source": [
    "arr1= np.array([[1,2],[3,4]])\n",
    "arr2= np.array([[5,6],[7,8]])\n",
    "\n",
    "arr = np.concatenate((arr1, arr2),axis=1)\n",
    "print(arr)"
   ]
  },
  {
   "cell_type": "code",
   "execution_count": 30,
   "id": "a3cb8be2",
   "metadata": {},
   "outputs": [
    {
     "name": "stdout",
     "output_type": "stream",
     "text": [
      "[[[1 2]\n",
      "  [5 6]]\n",
      "\n",
      " [[3 4]\n",
      "  [7 8]]]\n"
     ]
    }
   ],
   "source": [
    "arr1= np.array([[1,2],[3,4]])\n",
    "arr2= np.array([[5,6],[7,8]])\n",
    "\n",
    "arr = np.stack((arr1,arr2),axis=1) #same as concatenation, the only difference is that stacking is done along a new axis.\n",
    "print(arr)"
   ]
  },
  {
   "cell_type": "code",
   "execution_count": 31,
   "id": "dde8851f",
   "metadata": {},
   "outputs": [
    {
     "name": "stdout",
     "output_type": "stream",
     "text": [
      "[[1 2 5 6]\n",
      " [3 4 7 8]]\n",
      "[[1 2]\n",
      " [3 4]\n",
      " [5 6]\n",
      " [7 8]]\n"
     ]
    }
   ],
   "source": [
    "arr1= np.array([[1,2],[3,4]])\n",
    "arr2= np.array([[5,6],[7,8]])\n",
    "\n",
    "arr = np.hstack((arr1,arr2)) #stack along rows\n",
    "arr3= np.vstack((arr1,arr2)) #stack along columns\n",
    "print(arr)\n",
    "print(arr3)"
   ]
  },
  {
   "cell_type": "code",
   "execution_count": 32,
   "id": "fcf4bacf",
   "metadata": {},
   "outputs": [
    {
     "name": "stdout",
     "output_type": "stream",
     "text": [
      "[[[1 4]\n",
      "  [2 5]\n",
      "  [3 6]]]\n"
     ]
    }
   ],
   "source": [
    "arr1 = np.array([1,2,3])\n",
    "arr2 = np.array([4,5,6])\n",
    "\n",
    "arr = np.dstack((arr1,arr2)) #stack along the height\n",
    "print(arr)"
   ]
  },
  {
   "cell_type": "markdown",
   "id": "80996618",
   "metadata": {},
   "source": [
    "## Numpy splitting array"
   ]
  },
  {
   "cell_type": "code",
   "execution_count": 33,
   "id": "3e8962e8",
   "metadata": {},
   "outputs": [
    {
     "name": "stdout",
     "output_type": "stream",
     "text": [
      "[array([1, 2]), array([3, 4]), array([5, 6])]\n"
     ]
    }
   ],
   "source": [
    "arr = np.array([1,2,3,4,5,6])\n",
    "\n",
    "newarr= np.array_split(arr,3)\n",
    "print(newarr)"
   ]
  },
  {
   "cell_type": "code",
   "execution_count": 34,
   "id": "8893776f",
   "metadata": {},
   "outputs": [
    {
     "name": "stdout",
     "output_type": "stream",
     "text": [
      "[1 2]\n",
      "[3 4]\n",
      "[5 6]\n",
      "[array([[1, 2],\n",
      "       [3, 4]]), array([[5, 6]]), array([[7, 8]])]\n",
      "[array([[1],\n",
      "       [4],\n",
      "       [7]]), array([[2],\n",
      "       [5],\n",
      "       [8]]), array([[3],\n",
      "       [6],\n",
      "       [9]])]\n"
     ]
    }
   ],
   "source": [
    "arr = np.array([1,2,3,4,5,6])\n",
    "\n",
    "newarr= np.array_split(arr,3)\n",
    "print(newarr[0])\n",
    "print(newarr[1])\n",
    "print(newarr[2])\n",
    "\n",
    "arr2 = np.array([[1,2],[3,4],[5,6],[7,8]]) #splitting 2d array\n",
    "newarr2 = np.array_split(arr2,3)\n",
    "print(newarr2)\n",
    "\n",
    "arr3= np.array([[1,2,3],[4,5,6],[7,8,9]])\n",
    "newarr3= np.hsplit(arr3,3) #split the 2-D array into three 2-D arrays along columns\n",
    "print(newarr3)"
   ]
  },
  {
   "cell_type": "markdown",
   "id": "2c8aae67",
   "metadata": {},
   "source": [
    "## Searching Arrays"
   ]
  },
  {
   "cell_type": "code",
   "execution_count": null,
   "id": "9fa59ad6",
   "metadata": {},
   "outputs": [
    {
     "name": "stdout",
     "output_type": "stream",
     "text": [
      "(array([3, 5, 6]),)\n"
     ]
    }
   ],
   "source": [
    "arr = np.array([1,2,3,4,5,4,4])\n",
    "\n",
    "x= np.where(arr==4)\n",
    "print(x)                     #means value 4 is present at index 3 5 and 6"
   ]
  },
  {
   "cell_type": "code",
   "execution_count": 37,
   "id": "4237d1dd",
   "metadata": {},
   "outputs": [
    {
     "name": "stdout",
     "output_type": "stream",
     "text": [
      "(array([1, 3, 5, 7]),)\n",
      "(array([0, 2, 4, 6]),)\n"
     ]
    }
   ],
   "source": [
    "#find the values which are even\n",
    "arr = np.array([1,2,3,4,5,6,7,8])\n",
    "x=np.where(arr%2==0)\n",
    "print(x)\n",
    "\n",
    "#find the values which are odd\n",
    "arr1 = np.array([1,2,3,4,5,6,7,8])\n",
    "y=np.where(arr1%2==1)\n",
    "print(y)"
   ]
  },
  {
   "cell_type": "markdown",
   "id": "d62e0efe",
   "metadata": {},
   "source": [
    "The searchsorted() method is assumed to be used on sorted arrays."
   ]
  },
  {
   "cell_type": "code",
   "execution_count": 41,
   "id": "528eaa2f",
   "metadata": {},
   "outputs": [
    {
     "name": "stdout",
     "output_type": "stream",
     "text": [
      "1\n"
     ]
    }
   ],
   "source": [
    "#Find the indexes where the value 7 should be inserted:\n",
    "arr = np.array([6,8,7,9])\n",
    "x= np.searchsorted(arr,7)\n",
    "print(x)\n",
    "#7 should be inserted on index 1 to remain the sort order"
   ]
  },
  {
   "cell_type": "code",
   "execution_count": null,
   "id": "3090747a",
   "metadata": {},
   "outputs": [
    {
     "name": "stdout",
     "output_type": "stream",
     "text": [
      "2\n"
     ]
    }
   ],
   "source": [
    "#Find the indexes where the value 7 should be inserted, starting from right\n",
    "arr = np.array([6,7,8,9])\n",
    "x= np.searchsorted(arr,7, side='right')\n",
    "print(x)\n",
    "#7 should be inserted on index 2 to remain the sort order from right side"
   ]
  },
  {
   "cell_type": "code",
   "execution_count": null,
   "id": "8c3f8a6d",
   "metadata": {},
   "outputs": [
    {
     "name": "stdout",
     "output_type": "stream",
     "text": [
      "[1 2 3]\n"
     ]
    }
   ],
   "source": [
    "arr = np.array([1,3,5,7])\n",
    "x=np.searchsorted(arr,[2,4,6]) #this would be inserted in original array to maintain the order\n",
    "print(x)"
   ]
  },
  {
   "cell_type": "markdown",
   "id": "07c5a93f",
   "metadata": {},
   "source": [
    "## Sorting Arrays"
   ]
  },
  {
   "cell_type": "code",
   "execution_count": 48,
   "id": "4cce8266",
   "metadata": {},
   "outputs": [
    {
     "name": "stdout",
     "output_type": "stream",
     "text": [
      "[0 1 2 3 3 4]\n",
      "['apple' 'banana' 'cherry']\n",
      "[False  True  True]\n",
      "[[0 2 3]\n",
      " [1 4 5]]\n"
     ]
    }
   ],
   "source": [
    "arr = np.array([3,4,1,0,2,3]) #numerical sort\n",
    "x=np.sort(arr)\n",
    "print(x)\n",
    "\n",
    "arr1= np.array(['banana','cherry','apple']) #alphabetical sort\n",
    "y=np.sort(arr1)\n",
    "print(y)\n",
    "\n",
    "arr2= np.array([True, False, True]) #boolean sort\n",
    "z=np.sort(arr2)\n",
    "print(z)\n",
    "\n",
    "arr3= np.array([[3,2,0],[1,5,4]]) #2d array sort\n",
    "a=np.sort(arr3)\n",
    "print(a)"
   ]
  },
  {
   "cell_type": "markdown",
   "id": "17031380",
   "metadata": {},
   "source": [
    "## Numpy Array Filter\n",
    "Getting some elements out of an existing array and creating a new array out of them is called filtering.\n",
    "In NumPy, you filter an array using a boolean index list."
   ]
  },
  {
   "cell_type": "code",
   "execution_count": 49,
   "id": "ff6373c2",
   "metadata": {},
   "outputs": [
    {
     "name": "stdout",
     "output_type": "stream",
     "text": [
      "[41 43]\n"
     ]
    }
   ],
   "source": [
    "#Create an array from the elements on index 0 and 2:\n",
    "arr = np.array([41,42,43,44])\n",
    "x= [True, False, True, False] #returns values with True only\n",
    "newarr= arr[x]\n",
    "print(newarr)"
   ]
  },
  {
   "cell_type": "code",
   "execution_count": 50,
   "id": "433d7c67",
   "metadata": {},
   "outputs": [
    {
     "name": "stdout",
     "output_type": "stream",
     "text": [
      "[False, False, True, True]\n",
      "[43 44]\n"
     ]
    }
   ],
   "source": [
    "#Create a filter array that will return only values higher than 42:\n",
    "arr = np.array([41,42,43,44])\n",
    "\n",
    "#Create an empty array\n",
    "filter_arr =[]\n",
    "\n",
    "#Looping through each element\n",
    "for x in arr:\n",
    "    if x>42:\n",
    "        filter_arr.append(True)\n",
    "    else:\n",
    "        filter_arr.append(False)\n",
    "newarr = arr[filter_arr]\n",
    "\n",
    "print(filter_arr)\n",
    "print(newarr)"
   ]
  },
  {
   "cell_type": "code",
   "execution_count": null,
   "id": "f3da16c3",
   "metadata": {},
   "outputs": [
    {
     "name": "stdout",
     "output_type": "stream",
     "text": [
      "[ 2  4  6  8 10]\n"
     ]
    }
   ],
   "source": [
    "#Create a filter array that will return only even elements from the original array:\n",
    "arr = np.array([1,2,3,4,5,6,7,8,9,10])\n",
    "filter_arr =[] #we create this to get the returned array in it\n",
    "for x in arr:\n",
    "    if x % 2==0:\n",
    "        filter_arr.append(True)\n",
    "    else:\n",
    "        filter_arr.append(False)\n",
    "newarr=arr[filter_arr]\n",
    "print(newarr)"
   ]
  },
  {
   "cell_type": "markdown",
   "id": "c1553720",
   "metadata": {},
   "source": [
    "### Ez pz method (easier than looping)"
   ]
  },
  {
   "cell_type": "code",
   "execution_count": 53,
   "id": "a4b486ba",
   "metadata": {},
   "outputs": [
    {
     "name": "stdout",
     "output_type": "stream",
     "text": [
      "[43 44]\n"
     ]
    }
   ],
   "source": [
    "arr = np.array([41,42,43,44])\n",
    "\n",
    "filter_arr = arr>42\n",
    "newarr=arr[filter_arr]\n",
    "print(newarr)"
   ]
  },
  {
   "cell_type": "code",
   "execution_count": 54,
   "id": "a1c803fd",
   "metadata": {},
   "outputs": [
    {
     "name": "stdout",
     "output_type": "stream",
     "text": [
      "[ 2  4  6  8 10]\n"
     ]
    }
   ],
   "source": [
    "#Create a filter array that will return only even elements from the original array:\n",
    "arr = np.array([1,2,3,4,5,6,7,8,9,10])\n",
    "filter_arr= arr%2==0\n",
    "newarr=arr[filter_arr]\n",
    "print(newarr)"
   ]
  }
 ],
 "metadata": {
  "kernelspec": {
   "display_name": ".venv",
   "language": "python",
   "name": "python3"
  },
  "language_info": {
   "codemirror_mode": {
    "name": "ipython",
    "version": 3
   },
   "file_extension": ".py",
   "mimetype": "text/x-python",
   "name": "python",
   "nbconvert_exporter": "python",
   "pygments_lexer": "ipython3",
   "version": "3.13.7"
  }
 },
 "nbformat": 4,
 "nbformat_minor": 5
}
