{
 "cells": [
  {
   "cell_type": "markdown",
   "id": "fbc85b4e",
   "metadata": {},
   "source": [
    "Lets create first python code"
   ]
  },
  {
   "cell_type": "code",
   "execution_count": 6,
   "id": "355fcc57",
   "metadata": {},
   "outputs": [
    {
     "name": "stdout",
     "output_type": "stream",
     "text": [
      "alice\n"
     ]
    }
   ],
   "source": [
    "name= \"alice\"\n",
    "age= 18\n",
    "GPA= 3.78\n",
    "plays_volleyball= True\n",
    "\n",
    "print(name)"
   ]
  },
  {
   "cell_type": "code",
   "execution_count": 7,
   "id": "095a893f",
   "metadata": {},
   "outputs": [
    {
     "name": "stdout",
     "output_type": "stream",
     "text": [
      "alice 18 3.78 True\n"
     ]
    }
   ],
   "source": [
    "print(name,age,GPA, plays_volleyball)"
   ]
  },
  {
   "cell_type": "code",
   "execution_count": 8,
   "id": "7a71382b",
   "metadata": {},
   "outputs": [
    {
     "name": "stdout",
     "output_type": "stream",
     "text": [
      "alice 18 3.8499999999999996 True\n"
     ]
    }
   ],
   "source": [
    "GPA=GPA+0.07\n",
    "\n",
    "print(name,age,GPA, plays_volleyball)"
   ]
  },
  {
   "cell_type": "code",
   "execution_count": 10,
   "id": "a2f79f12",
   "metadata": {},
   "outputs": [
    {
     "name": "stdout",
     "output_type": "stream",
     "text": [
      "Student name is alice and they are 18 years old\n",
      "Student name is {name} and they are {age} years old\n"
     ]
    }
   ],
   "source": [
    "print(f\"Student name is {name} and they are {age} years old\")\n",
    "print(\"Student name is {name} and they are {age} years old\")"
   ]
  },
  {
   "cell_type": "code",
   "execution_count": 11,
   "id": "e2a45d73",
   "metadata": {},
   "outputs": [
    {
     "name": "stdout",
     "output_type": "stream",
     "text": [
      "alice will be 33 years old in next 15 years\n"
     ]
    }
   ],
   "source": [
    "age= age+15\n",
    "print(f\"{name} will be {age} years old in next 15 years\")"
   ]
  },
  {
   "cell_type": "code",
   "execution_count": 12,
   "id": "5042ae45",
   "metadata": {},
   "outputs": [
    {
     "data": {
      "text/plain": [
       "'badminton'"
      ]
     },
     "execution_count": 12,
     "metadata": {},
     "output_type": "execute_result"
    }
   ],
   "source": [
    "sports = ['volleyball', 'badminton', 'netball', 'cricket', 'cross country']\n",
    "sports[1]"
   ]
  },
  {
   "cell_type": "code",
   "execution_count": 16,
   "id": "642d6211",
   "metadata": {},
   "outputs": [
    {
     "name": "stdout",
     "output_type": "stream",
     "text": [
      "Alice is currently playing:  ['cricket', 'cross country']\n"
     ]
    }
   ],
   "source": [
    "sports.append('touch rugby')\n",
    "print(f\"Alice is currently playing: \", sports[3:5])"
   ]
  },
  {
   "cell_type": "markdown",
   "id": "4fecdc5c",
   "metadata": {},
   "source": [
    "heyaa **Im bold** text"
   ]
  },
  {
   "cell_type": "code",
   "execution_count": 17,
   "id": "8c58f205",
   "metadata": {},
   "outputs": [
    {
     "name": "stdout",
     "output_type": "stream",
     "text": [
      "Alice is currently playing:  ['touch rugby', 'touch rugby', 'touch rugby']\n"
     ]
    }
   ],
   "source": [
    "print(f\"Alice is currently playing: \", sports[-3:])"
   ]
  },
  {
   "cell_type": "code",
   "execution_count": 20,
   "id": "7514eea1",
   "metadata": {},
   "outputs": [
    {
     "name": "stdout",
     "output_type": "stream",
     "text": [
      "['volleyball', 'badminton', 'netball', 'cricket', 'cross country']\n",
      "['volleyball', 'badminton', 'netball', 'cricket', 'cross country']\n"
     ]
    },
    {
     "data": {
      "text/plain": [
       "['netball', 'cricket', 'cross country']"
      ]
     },
     "execution_count": 20,
     "metadata": {},
     "output_type": "execute_result"
    }
   ],
   "source": [
    "print(sports)\n",
    "sports = ['volleyball', 'badminton', 'netball', 'cricket', 'cross country']\n",
    "print(sports)\n",
    "sports[-3:]"
   ]
  },
  {
   "cell_type": "markdown",
   "id": "14d2c0e1",
   "metadata": {},
   "source": [
    "### Calculating Student **Letter Grade**"
   ]
  },
  {
   "cell_type": "code",
   "execution_count": 23,
   "id": "001b348f",
   "metadata": {},
   "outputs": [
    {
     "name": "stdout",
     "output_type": "stream",
     "text": [
      "Your letter grade is  A\n"
     ]
    }
   ],
   "source": [
    "student_gpa = float(input(\"What is your GPA?\"))\n",
    "if student_gpa <=2:\n",
    "    letter_grade= \"D\"\n",
    "elif student_gpa <=3:\n",
    "    letter_grade= \"C\"\n",
    "elif student_gpa <= 3.8:\n",
    "    letter_grade= 'B'\n",
    "else: letter_grade = 'A'\n",
    "\n",
    "print(f\"Your letter grade is \", letter_grade)"
   ]
  }
 ],
 "metadata": {
  "kernelspec": {
   "display_name": ".venv",
   "language": "python",
   "name": "python3"
  },
  "language_info": {
   "codemirror_mode": {
    "name": "ipython",
    "version": 3
   },
   "file_extension": ".py",
   "mimetype": "text/x-python",
   "name": "python",
   "nbconvert_exporter": "python",
   "pygments_lexer": "ipython3",
   "version": "3.13.7"
  }
 },
 "nbformat": 4,
 "nbformat_minor": 5
}
